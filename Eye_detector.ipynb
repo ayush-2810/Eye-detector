{
 "cells": [
  {
   "cell_type": "code",
   "execution_count": 10,
   "metadata": {},
   "outputs": [],
   "source": [
    "# Detecting eye\n",
    "\n",
    "import cv2   # Importing the cv2 module.\n",
    "cam = cv2.VideoCapture(0)\n",
    "\n",
    "detector = cv2.CascadeClassifier('haarcascade_eye.xml')   # Using this haarcascade as a classifier.\n",
    "\n",
    "while True:\n",
    "    ret, img = cam.read()   # ret = True if cam is able to read the image.\n",
    "                            # img captures all the images.\n",
    "    \n",
    "    gray = cv2.cvtColor(img, cv2.COLOR_BGR2GRAY)   # Converting all the images in grayscale.\n",
    "    \n",
    "    eye = detector.detectMultiScale(gray, 1.3, 5)\n",
    "    \n",
    "    for (x,y,w,h) in eye:\n",
    "        cv2.rectangle(img, (x, y), (x+w, y+h), (255, 0, 0), 2)    # Drawing the rectangle.\n",
    "        \n",
    "    cv2.imshow('frame', img)\n",
    "    \n",
    "    if cv2.waitKey(1)==ord('q'):   # Pressing 'q' exits the frame.\n",
    "        break\n",
    "        \n",
    "cam.release()\n",
    "cv2.destroyAllWindows()"
   ]
  },
  {
   "cell_type": "code",
   "execution_count": 6,
   "metadata": {},
   "outputs": [
    {
     "name": "stdout",
     "output_type": "stream",
     "text": [
      "Niebieski (0-255): 35\n",
      "Zielony (0-255): 35\n",
      "Czerwony (0-255): 35\n",
      "Podaj czulosc (5-50): 35\n"
     ]
    },
    {
     "ename": "AttributeError",
     "evalue": "module 'cv2.cv2' has no attribute 'cv'",
     "output_type": "error",
     "traceback": [
      "\u001b[1;31m---------------------------------------------------------------------------\u001b[0m",
      "\u001b[1;31mAttributeError\u001b[0m                            Traceback (most recent call last)",
      "\u001b[1;32m<ipython-input-6-fce67d6a0178>\u001b[0m in \u001b[0;36m<module>\u001b[1;34m()\u001b[0m\n\u001b[0;32m     43\u001b[0m                 \u001b[0mrects\u001b[0m \u001b[1;33m=\u001b[0m \u001b[0mmap\u001b[0m\u001b[1;33m(\u001b[0m\u001b[1;32mlambda\u001b[0m \u001b[0mc\u001b[0m \u001b[1;33m:\u001b[0m \u001b[0mcv2\u001b[0m\u001b[1;33m.\u001b[0m\u001b[0mminAreaRect\u001b[0m\u001b[1;33m(\u001b[0m\u001b[0mc\u001b[0m\u001b[1;33m)\u001b[0m\u001b[1;33m,\u001b[0m \u001b[0mcontours\u001b[0m\u001b[1;33m)\u001b[0m\u001b[1;33m\u001b[0m\u001b[0m\n\u001b[0;32m     44\u001b[0m                 \u001b[0mmaxRect\u001b[0m \u001b[1;33m=\u001b[0m \u001b[0mmax\u001b[0m\u001b[1;33m(\u001b[0m\u001b[0mrects\u001b[0m\u001b[1;33m,\u001b[0m \u001b[0mkey\u001b[0m\u001b[1;33m=\u001b[0m\u001b[1;32mlambda\u001b[0m \u001b[0mr\u001b[0m \u001b[1;33m:\u001b[0m \u001b[0mr\u001b[0m\u001b[1;33m[\u001b[0m\u001b[1;36m1\u001b[0m\u001b[1;33m]\u001b[0m\u001b[1;33m[\u001b[0m\u001b[1;36m0\u001b[0m\u001b[1;33m]\u001b[0m \u001b[1;33m*\u001b[0m \u001b[0mr\u001b[0m\u001b[1;33m[\u001b[0m\u001b[1;36m1\u001b[0m\u001b[1;33m]\u001b[0m\u001b[1;33m[\u001b[0m\u001b[1;36m1\u001b[0m\u001b[1;33m]\u001b[0m\u001b[1;33m)\u001b[0m\u001b[1;33m\u001b[0m\u001b[0m\n\u001b[1;32m---> 45\u001b[1;33m                 \u001b[0mbox\u001b[0m \u001b[1;33m=\u001b[0m \u001b[0mcv2\u001b[0m\u001b[1;33m.\u001b[0m\u001b[0mcv\u001b[0m\u001b[1;33m.\u001b[0m\u001b[0mBoxPoints\u001b[0m\u001b[1;33m(\u001b[0m\u001b[0mmaxRect\u001b[0m\u001b[1;33m)\u001b[0m\u001b[1;33m\u001b[0m\u001b[0m\n\u001b[0m\u001b[0;32m     46\u001b[0m                 \u001b[0mbox\u001b[0m \u001b[1;33m=\u001b[0m \u001b[0mnp\u001b[0m\u001b[1;33m.\u001b[0m\u001b[0mint0\u001b[0m\u001b[1;33m(\u001b[0m\u001b[0mbox\u001b[0m\u001b[1;33m)\u001b[0m\u001b[1;33m\u001b[0m\u001b[0m\n\u001b[0;32m     47\u001b[0m                 \u001b[0mcv2\u001b[0m\u001b[1;33m.\u001b[0m\u001b[0mdrawContours\u001b[0m\u001b[1;33m(\u001b[0m\u001b[0mframe\u001b[0m\u001b[1;33m,\u001b[0m\u001b[1;33m[\u001b[0m\u001b[0mbox\u001b[0m\u001b[1;33m]\u001b[0m\u001b[1;33m,\u001b[0m\u001b[1;36m0\u001b[0m\u001b[1;33m,\u001b[0m\u001b[1;33m(\u001b[0m\u001b[1;36m0\u001b[0m\u001b[1;33m,\u001b[0m\u001b[1;36m0\u001b[0m\u001b[1;33m,\u001b[0m\u001b[1;36m255\u001b[0m\u001b[1;33m)\u001b[0m\u001b[1;33m,\u001b[0m\u001b[1;36m2\u001b[0m\u001b[1;33m)\u001b[0m\u001b[1;33m\u001b[0m\u001b[0m\n",
      "\u001b[1;31mAttributeError\u001b[0m: module 'cv2.cv2' has no attribute 'cv'"
     ]
    }
   ],
   "source": [
    "import numpy as np\n",
    "import win32api, win32con\n",
    "import cv2\n",
    "import operator\n",
    "\n",
    "mouseAcc = 1\n",
    "\n",
    "def bgrToHSV( bgr ):\n",
    "\treturn cv2.cvtColor(np.uint8([[bgr]]), cv2.COLOR_BGR2HSV)\t\n",
    "\n",
    "def getBoundsForBGR( bgr, tolerance ):\n",
    "\thsv = bgrToHSV(bgr)[0][0]\t\n",
    "\treturn (np.array([max((0, hsv[0] - tolerance)), 100, 100]), np.array([min(255, hsv[0] + tolerance), 255, 255]))\t\n",
    "\n",
    "def clamp(min_v, max_v, val):\n",
    "\treturn max(min(max_v, val), min_v)\n",
    "\n",
    "\n",
    "colourToTrack = [clamp(0, 255, int(input(\"Niebieski (0-255): \"))), clamp(0, 255, int(input(\"Zielony (0-255): \"))), clamp(0, 255, int(input(\"Czerwony (0-255): \")))]\n",
    "treshold = int(clamp(5, 50, int(input(\"Podaj czulosc (5-50): \"))))\n",
    "\n",
    "colourBounds = getBoundsForBGR(colourToTrack, treshold)\n",
    "kernel = cv2.getStructuringElement(cv2.MORPH_ELLIPSE, (20, 20))\n",
    "\n",
    "camera = cv2.VideoCapture(0)\n",
    "prevBoxPos = None\n",
    "\n",
    "while(1):\n",
    "\n",
    "\tcursorPos = win32api.GetCursorPos()\n",
    "\ttrackObjDelta = (0, 0)\n",
    "\n",
    "\t_, frame = camera.read()\n",
    "\t\n",
    "\thsv = cv2.cvtColor(frame, cv2.COLOR_BGR2HSV)\n",
    "\n",
    "\tmask = cv2.inRange(hsv, colourBounds[0], colourBounds[1])\t\n",
    "\tmask = cv2.morphologyEx(mask, cv2.MORPH_OPEN, kernel)\t\t\n",
    "\t\n",
    "\tcontours,hierarchy = cv2.findContours(mask, cv2.RETR_TREE, cv2.CHAIN_APPROX_SIMPLE)\n",
    "\n",
    "\tif len(contours) > 0:\n",
    "\t\trects = map(lambda c : cv2.minAreaRect(c), contours)\n",
    "\t\tmaxRect = max(rects, key=lambda r : r[1][0] * r[1][1])\t\t\t\n",
    "\t\tbox = cv2.cv.BoxPoints(maxRect)\n",
    "\t\tbox = np.int0(box)\n",
    "\t\tcv2.drawContours(frame,[box],0,(0,0,255),2)\n",
    "\n",
    "\t\tboxPos = (int(maxRect[0][0]), int(maxRect[0][1]))\t\t\n",
    "\t\tcv2.circle(frame, boxPos, 5, (255, 0, 0), 10)\n",
    "\n",
    "\t\tif prevBoxPos != None:\n",
    "\t\t\tdelta = ((boxPos[0] - prevBoxPos[0]) * mouseAcc, (boxPos[1] - prevBoxPos[1]) * mouseAcc)\n",
    "\t\t\twin32api.SetCursorPos(tuple(map(operator.add, cursorPos, delta)))\t\t\t\n",
    "\t\tprevBoxPos = boxPos\n",
    "\t\n",
    "\tcv2.imshow(\"camera\", frame)\t\t\n",
    "\n",
    "\tk = cv2.waitKey(5) & 0xFF\n",
    "\tif k == 27:\n",
    "\t\tbreak\n",
    "\t\n",
    "cv2.destroyAllWindows()"
   ]
  },
  {
   "cell_type": "code",
   "execution_count": 9,
   "metadata": {},
   "outputs": [],
   "source": [
    "import cv2"
   ]
  },
  {
   "cell_type": "code",
   "execution_count": null,
   "metadata": {},
   "outputs": [],
   "source": []
  }
 ],
 "metadata": {
  "kernelspec": {
   "display_name": "Python 3",
   "language": "python",
   "name": "python3"
  },
  "language_info": {
   "codemirror_mode": {
    "name": "ipython",
    "version": 3
   },
   "file_extension": ".py",
   "mimetype": "text/x-python",
   "name": "python",
   "nbconvert_exporter": "python",
   "pygments_lexer": "ipython3",
   "version": "3.6.8"
  }
 },
 "nbformat": 4,
 "nbformat_minor": 2
}
