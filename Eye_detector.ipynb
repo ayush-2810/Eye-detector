{
 "cells": [
  {
   "cell_type": "code",
   "execution_count": null,
   "metadata": {},
   "outputs": [],
   "source": [
    "# Detecting eye\n",
    "\n",
    "import cv2   # Importing the cv2 module.\n",
    "cam = cv2.VideoCapture(0)\n",
    "\n",
    "detector = cv2.CascadeClassifier('haarcascade_eye.xml')   # Using this haarcascade as a classifier.\n",
    "\n",
    "while True:\n",
    "    ret, img = cam.read()   # ret = True if cam is able to read the image.\n",
    "                            # img captures all the images.\n",
    "    \n",
    "    gray = cv2.cvtColor(img, cv2.COLOR_BGR2GRAY)   # Converting all the images in grayscale.\n",
    "    \n",
    "    eye = detector.detectMultiScale(gray, 1.3, 5)\n",
    "    \n",
    "    for (x,y,w,h) in eye:\n",
    "        cv2.rectangle(img, (x, y), (x+w, y+h), (255, 0, 0), 2)    # Drawing the rectangle.\n",
    "        \n",
    "    cv2.imshow('frame', img)\n",
    "    \n",
    "    if cv2.waitKey(1)==ord('q'):   # Pressing 'q' exits the frame.\n",
    "        break\n",
    "        \n",
    "cam.release()\n",
    "cv2.destroyAllWindows()"
   ]
  }
 ],
 "metadata": {
  "kernelspec": {
   "display_name": "Python 3",
   "language": "python",
   "name": "python3"
  },
  "language_info": {
   "codemirror_mode": {
    "name": "ipython",
    "version": 3
   },
   "file_extension": ".py",
   "mimetype": "text/x-python",
   "name": "python",
   "nbconvert_exporter": "python",
   "pygments_lexer": "ipython3",
   "version": "3.6.8"
  }
 },
 "nbformat": 4,
 "nbformat_minor": 2
}
